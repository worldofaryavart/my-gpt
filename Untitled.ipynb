{
 "cells": [
  {
   "cell_type": "code",
   "execution_count": 11,
   "id": "99eb487e-4a1d-481a-99c9-bc8474d71f5b",
   "metadata": {},
   "outputs": [
    {
     "name": "stdout",
     "output_type": "stream",
     "text": [
      "cpu\n"
     ]
    }
   ],
   "source": [
    "import torch \n",
    "import numpy as np\n",
    "import time\n",
    "device = 'cuda' if torch.cuda.is_available() else 'cpu'\n",
    "print(device)"
   ]
  },
  {
   "cell_type": "code",
   "execution_count": 16,
   "id": "5600d45c-f3f9-4253-aa03-e2b7ef2553f9",
   "metadata": {},
   "outputs": [
    {
     "name": "stdout",
     "output_type": "stream",
     "text": [
      "0.0000\n"
     ]
    }
   ],
   "source": [
    "start_time = time.time()\n",
    "zeros = torch.zeros(1,1)\n",
    "end_time = time.time()\n",
    "elapsed_time = end_time- start_time\n",
    "print(f\"{elapsed_time:.4f}\")"
   ]
  },
  {
   "cell_type": "code",
   "execution_count": 22,
   "id": "dff2b9ca-e431-4904-9b98-f546ccb64251",
   "metadata": {},
   "outputs": [
    {
     "name": "stdout",
     "output_type": "stream",
     "text": [
      "tensor([0, 1, 1, 1, 1, 1, 1, 1, 0, 1, 1, 1, 1, 0, 1, 1, 1, 1, 1, 0, 1, 1, 1, 1,\n",
      "        1, 1, 1, 1, 1, 1, 1, 1, 1, 0, 1, 1, 1, 1, 1, 1, 0, 0, 1, 1, 1, 1, 1, 1,\n",
      "        1, 1, 1, 1, 0, 1, 0, 1, 1, 1, 1, 1, 1, 1, 1, 1, 1, 1, 1, 0, 1, 1, 1, 1,\n",
      "        1, 1, 1, 0, 1, 1, 1, 1, 1, 0, 1, 1, 1, 0, 1, 1, 1, 1, 0, 1, 1, 1, 1, 1,\n",
      "        1, 1, 1, 1])\n"
     ]
    }
   ],
   "source": [
    "probabilities = torch.tensor([0.1,0.9])\n",
    "samples = torch.multinomial(probabilities,num_samples = 100, replacement = True)\n",
    "print(samples)"
   ]
  },
  {
   "cell_type": "code",
   "execution_count": 27,
   "id": "7ab52670-9058-47d7-8eed-e52add89881a",
   "metadata": {},
   "outputs": [
    {
     "data": {
      "text/plain": [
       "tensor([1, 2, 3, 6, 5])"
      ]
     },
     "execution_count": 27,
     "metadata": {},
     "output_type": "execute_result"
    }
   ],
   "source": [
    "tensor = torch.tensor([1,2,3,4])\n",
    "out = torch.cat((tensor,torch.tensor([5])),dim = 0)\n",
    "out"
   ]
  },
  {
   "cell_type": "code",
   "execution_count": 28,
   "id": "1abfb382-770d-4733-8e57-0108803d98e5",
   "metadata": {},
   "outputs": [
    {
     "data": {
      "text/plain": [
       "tensor([[1., 0., 0., 0., 0.],\n",
       "        [1., 1., 0., 0., 0.],\n",
       "        [1., 1., 1., 0., 0.],\n",
       "        [1., 1., 1., 1., 0.],\n",
       "        [1., 1., 1., 1., 1.]])"
      ]
     },
     "execution_count": 28,
     "metadata": {},
     "output_type": "execute_result"
    }
   ],
   "source": [
    "out= torch.tril (torch.ones(5,5))\n",
    "out"
   ]
  },
  {
   "cell_type": "code",
   "execution_count": 29,
   "id": "4c51a94c-7d59-42c4-838a-ecd7069ecfd8",
   "metadata": {},
   "outputs": [
    {
     "data": {
      "text/plain": [
       "tensor([[0., 0., 0., 0., 0.],\n",
       "        [0., 0., 0., 0., 0.],\n",
       "        [0., 0., 0., 0., 0.],\n",
       "        [0., 0., 0., 0., 0.],\n",
       "        [0., 0., 0., 0., 0.]])"
      ]
     },
     "execution_count": 29,
     "metadata": {},
     "output_type": "execute_result"
    }
   ],
   "source": [
    "out = torch.tril(torch.zeros(5,5))\n",
    "out"
   ]
  },
  {
   "cell_type": "code",
   "execution_count": 31,
   "id": "173674b5-ecd0-468a-9388-7c0b0d2077b5",
   "metadata": {},
   "outputs": [
    {
     "data": {
      "text/plain": [
       "tensor([[1., 1., 1., 1., 1.],\n",
       "        [0., 1., 1., 1., 1.],\n",
       "        [0., 0., 1., 1., 1.],\n",
       "        [0., 0., 0., 1., 1.],\n",
       "        [0., 0., 0., 0., 1.]])"
      ]
     },
     "execution_count": 31,
     "metadata": {},
     "output_type": "execute_result"
    }
   ],
   "source": [
    "out = torch.triu(torch.ones(5,5))\n",
    "out"
   ]
  },
  {
   "cell_type": "code",
   "execution_count": 34,
   "id": "b4869f7a-8287-449f-b8dd-9ef79a03739b",
   "metadata": {},
   "outputs": [
    {
     "data": {
      "text/plain": [
       "tensor([[0., -inf, -inf, -inf, -inf],\n",
       "        [0., 0., -inf, -inf, -inf],\n",
       "        [0., 0., 0., -inf, -inf],\n",
       "        [0., 0., 0., 0., -inf],\n",
       "        [0., 0., 0., 0., 0.]])"
      ]
     },
     "execution_count": 34,
     "metadata": {},
     "output_type": "execute_result"
    }
   ],
   "source": [
    "out = torch.zeros(5,5).masked_fill(torch.tril(torch.ones(5,5)) == 0,float('-inf'))\n",
    "out"
   ]
  },
  {
   "cell_type": "code",
   "execution_count": 35,
   "id": "511b8dd5-80da-402a-8442-4bcb6db9200b",
   "metadata": {},
   "outputs": [
    {
     "data": {
      "text/plain": [
       "tensor([[1., 0., 0., 0., 0.],\n",
       "        [1., 1., 0., 0., 0.],\n",
       "        [1., 1., 1., 0., 0.],\n",
       "        [1., 1., 1., 1., 0.],\n",
       "        [1., 1., 1., 1., 1.]])"
      ]
     },
     "execution_count": 35,
     "metadata": {},
     "output_type": "execute_result"
    }
   ],
   "source": [
    "torch.exp(out)"
   ]
  },
  {
   "cell_type": "code",
   "execution_count": 37,
   "id": "e7744bff-8b23-4389-8451-84d80a60a632",
   "metadata": {},
   "outputs": [
    {
     "data": {
      "text/plain": [
       "torch.Size([4, 3, 2])"
      ]
     },
     "execution_count": 37,
     "metadata": {},
     "output_type": "execute_result"
    }
   ],
   "source": [
    "input = torch.zeros(2,3,4)\n",
    "out = input.transpose(0,2)\n",
    "out.shape"
   ]
  },
  {
   "cell_type": "code",
   "execution_count": 39,
   "id": "70d33d43-9e7c-4eec-89aa-6bacbb3e2ced",
   "metadata": {},
   "outputs": [
    {
     "data": {
      "text/plain": [
       "tensor([[1, 3, 4],\n",
       "        [1, 3, 8],\n",
       "        [5, 4, 1]])"
      ]
     },
     "execution_count": 39,
     "metadata": {},
     "output_type": "execute_result"
    }
   ],
   "source": [
    "tensor1 = torch.tensor([1,3,4])\n",
    "tensor2 = torch.tensor([1,3,8])\n",
    "tensor3 = torch.tensor([5,4,1])\n",
    "\n",
    "staked_tensor = torch.stack([tensor1,tensor2,tensor3])\n",
    "staked_tensor"
   ]
  },
  {
   "cell_type": "code",
   "execution_count": 44,
   "id": "5f585a86-1528-4e33-938f-3acdd15c9961",
   "metadata": {},
   "outputs": [
    {
     "name": "stdout",
     "output_type": "stream",
     "text": [
      "tensor([-6.7260,  3.5607, -0.0122], grad_fn=<AddBackward0>)\n"
     ]
    }
   ],
   "source": [
    "import torch.nn as nn\n",
    "sample = torch.tensor([10. ,10. ,10.])\n",
    "linear = nn.Linear(3,3)\n",
    "print(linear(sample))"
   ]
  },
  {
   "cell_type": "code",
   "execution_count": 48,
   "id": "2e1ff956-9961-4e0d-a2bc-b5de60393318",
   "metadata": {},
   "outputs": [
    {
     "name": "stdout",
     "output_type": "stream",
     "text": [
      "tensor([0.0900, 0.2447, 0.6652])\n"
     ]
    }
   ],
   "source": [
    "import torch.nn.functional as F\n",
    "tensor1 = torch.tensor([1.0,2.0,3.0])\n",
    "softmax_output = F.softmax(tensor1,dim=0)\n",
    "print(softmax_output)"
   ]
  },
  {
   "cell_type": "code",
   "execution_count": 49,
   "id": "30f26923-dec0-43fe-bfa4-4edc2504ef21",
   "metadata": {},
   "outputs": [],
   "source": [
    "# character embedding"
   ]
  },
  {
   "cell_type": "code",
   "execution_count": 61,
   "id": "3ce4dd16-8b56-41fa-9228-7a5e8ecf829f",
   "metadata": {},
   "outputs": [
    {
     "name": "stdout",
     "output_type": "stream",
     "text": [
      "torch.Size([5, 100])\n",
      "tensor([[-1.2416e-01,  2.1727e+00, -1.3288e+00, -1.1768e-01, -1.7077e-01,\n",
      "         -2.8404e-01, -5.8249e-01, -8.9033e-01, -2.2800e+00, -1.5578e+00,\n",
      "         -6.4548e-01, -8.3759e-01, -1.0126e+00,  4.0311e-02,  1.1225e+00,\n",
      "         -1.2328e+00,  7.9232e-01,  6.9514e-01,  9.6554e-01, -1.0814e+00,\n",
      "         -9.6986e-01, -4.8750e-01,  1.8576e+00, -1.4653e+00, -1.0809e+00,\n",
      "          7.6933e-01,  2.9008e-01,  1.3686e+00,  3.1789e-01,  1.1240e+00,\n",
      "         -1.7895e-01,  1.4794e-01, -6.8784e-01, -5.7147e-01,  1.9508e+00,\n",
      "         -2.0168e+00, -1.2232e+00, -1.4108e+00,  4.0031e-01, -3.5510e-01,\n",
      "         -1.1495e+00, -5.2146e-01, -1.5513e-01, -1.3452e+00, -1.4425e+00,\n",
      "          1.4072e+00,  1.1519e+00,  4.3250e-01,  5.3159e-01, -1.1640e+00,\n",
      "         -1.0943e+00, -2.0887e+00,  5.7333e-01, -1.3711e+00,  8.4083e-01,\n",
      "          1.9137e-01,  2.9755e-01,  7.9262e-01, -5.7564e-01, -4.5108e-02,\n",
      "         -2.5195e-01,  1.1135e-01,  2.3496e+00, -7.6815e-01,  4.8683e-01,\n",
      "          8.6022e-01,  8.4085e-01, -4.0270e-01, -6.0059e-01,  7.8201e-01,\n",
      "          6.7567e-01,  7.2074e-01, -1.0529e+00,  2.3432e+00, -9.3227e-01,\n",
      "         -5.0540e-01, -7.5440e-01, -5.0451e-01, -8.5567e-01, -8.5403e-01,\n",
      "          1.1888e+00, -1.0246e+00, -1.1956e+00,  9.6460e-01, -4.8055e-01,\n",
      "         -2.2961e+00,  5.9895e-01,  1.8196e+00,  2.8663e-01,  7.5090e-01,\n",
      "          3.0304e-01, -2.4470e-01, -5.5583e-01, -1.6096e-01,  1.3965e+00,\n",
      "          5.4084e-01, -4.1198e-01,  6.7810e-02, -2.0370e+00, -1.4375e-01],\n",
      "        [ 9.2340e-01,  8.7876e-01, -9.5598e-02, -4.2815e-01, -3.7062e-01,\n",
      "         -3.1813e-01, -7.5631e-02, -3.2261e-01, -2.0539e-01, -1.7953e+00,\n",
      "         -1.6702e+00,  6.1814e-01, -1.1680e-01,  2.4658e+00, -9.1711e-01,\n",
      "         -1.6988e+00, -3.8111e-01,  5.1522e-01,  9.9197e-01,  1.7877e-01,\n",
      "          1.0436e+00, -1.3582e+00, -1.9629e-01,  1.7076e+00,  2.0830e-01,\n",
      "          1.2533e+00,  3.6648e-01,  7.8825e-02, -3.2094e-01,  8.8670e-01,\n",
      "          1.4607e+00, -1.2935e+00, -2.0427e+00, -2.2881e-01,  4.6171e-01,\n",
      "         -6.6908e-01, -3.7772e-02,  7.6989e-01, -2.1123e+00, -2.3002e+00,\n",
      "         -9.3178e-01,  6.1572e-01, -1.5285e+00,  1.9964e+00, -3.4391e-01,\n",
      "          2.8856e-01, -1.8910e-02, -8.5198e-01,  8.8296e-01, -1.0644e+00,\n",
      "         -1.3151e-01,  3.5835e-01, -1.1622e+00,  2.0684e+00,  1.2236e-01,\n",
      "          6.0811e-02, -5.9499e-01,  2.5467e-01, -2.3039e-01, -1.2580e+00,\n",
      "          3.0097e+00,  1.0020e-01, -6.8258e-01, -1.5322e-01, -1.8918e+00,\n",
      "          4.1673e-01, -8.7852e-01,  1.1420e+00,  7.6350e-01, -8.3076e-01,\n",
      "         -7.7568e-04, -8.0619e-01, -5.7318e-01, -1.6519e+00,  9.5415e-01,\n",
      "         -3.6433e-03, -1.2918e-01, -5.6046e-01, -1.2787e+00, -3.6505e-01,\n",
      "          9.2465e-01, -2.3614e+00,  5.7088e-01,  4.8249e-01, -1.9887e+00,\n",
      "          1.0494e-01, -6.3992e-01,  4.9588e-01, -1.8731e-01, -1.0076e+00,\n",
      "          1.9557e-01, -6.0391e-01,  6.0565e-01, -2.5523e+00, -1.4846e+00,\n",
      "          8.5644e-01,  9.0761e-01, -2.5982e-01,  1.1265e+00,  5.6873e-01],\n",
      "        [ 7.4657e-01, -5.2011e-01,  7.5367e-01,  7.6282e-02,  8.2513e-01,\n",
      "          6.3655e-02,  7.0687e-01,  2.2668e-01, -4.8725e-01,  1.9755e-01,\n",
      "         -9.0599e-01, -3.7041e-01, -6.8076e-01, -1.0784e+00,  3.4707e-01,\n",
      "          2.4093e-01, -5.8226e-01,  8.4826e-01,  7.4730e-01,  1.5479e+00,\n",
      "          1.8042e-01, -1.3180e+00, -1.1297e+00, -8.0230e-01,  7.3380e-01,\n",
      "         -1.4580e-01, -4.3766e-01, -1.0433e-01,  3.8995e-02, -1.4181e-01,\n",
      "         -1.3752e+00, -7.0296e-01, -4.8229e-01, -2.4841e-01, -3.7488e-01,\n",
      "         -1.2930e-01,  1.3697e+00, -4.1425e-01,  2.8407e-02, -2.0239e+00,\n",
      "         -2.7053e-01,  9.1245e-01, -2.1065e+00,  9.0555e-04, -3.3452e-02,\n",
      "          8.7328e-01, -2.1333e-01,  3.0179e-02,  3.8083e-01,  8.6023e-02,\n",
      "         -4.3504e-01, -3.7339e-01,  6.1863e-01, -2.0046e-01,  3.6172e-01,\n",
      "         -1.7146e+00, -2.4278e-01, -9.8965e-01,  4.4606e-01,  3.3392e-01,\n",
      "          1.0233e+00,  1.2886e+00,  2.6173e+00,  3.9996e-01, -4.1567e-01,\n",
      "          3.3397e-01,  2.9599e-01,  2.1449e-01,  1.3881e-01, -1.7580e+00,\n",
      "         -4.8868e-01,  7.0065e-01, -3.4468e-01,  1.1738e+00,  1.1215e+00,\n",
      "          2.2862e-01,  3.5436e-01,  1.0252e+00, -7.5195e-01, -3.7227e-01,\n",
      "         -1.3159e-01, -2.0984e-01, -1.1453e+00, -3.4648e-01, -7.2130e-01,\n",
      "         -1.2551e+00, -4.5969e-02, -4.2156e-01,  7.5979e-01,  6.1247e-01,\n",
      "         -8.1948e-02,  8.7057e-01,  2.2481e-01,  8.8359e-01, -2.9865e-01,\n",
      "          6.3589e-01,  7.0269e-01,  2.0472e+00,  1.4472e-01,  3.1349e-01],\n",
      "        [-4.5737e-01,  1.4047e-01,  4.4014e-01, -1.4132e+00,  4.4469e-02,\n",
      "          2.1843e+00, -1.4849e+00, -2.8828e-02,  1.3056e+00,  1.0696e+00,\n",
      "          2.5531e+00,  1.8216e-01,  7.8600e-03, -2.6430e+00, -7.4974e-02,\n",
      "          1.0481e+00,  4.9320e-01,  1.1241e-01,  9.5552e-01, -1.0083e+00,\n",
      "         -6.5075e-01,  1.0306e-01,  1.2889e+00, -3.4783e-01, -3.3569e-01,\n",
      "          5.3534e-01, -1.6246e-01, -1.3212e+00,  2.0047e-01, -8.6634e-02,\n",
      "         -6.1515e-01, -1.5593e+00, -7.4810e-01, -8.5819e-02, -9.5452e-01,\n",
      "          2.6987e-01, -8.4470e-01, -5.9280e-01,  1.4503e-01, -8.8592e-01,\n",
      "         -3.0639e-01,  3.3770e-01, -1.0322e+00, -1.1149e+00,  1.3765e+00,\n",
      "         -1.6151e-01,  1.4081e+00,  1.7896e-01, -1.8408e-01, -1.0595e+00,\n",
      "         -1.4669e+00,  7.1700e-01, -6.1019e-02, -2.4360e-01,  7.2027e-01,\n",
      "         -1.1777e+00, -4.0278e-01, -7.4743e-01,  6.2077e-01, -6.0924e-02,\n",
      "          1.7374e-02,  7.0955e-01,  5.5311e-01,  3.6205e-01,  1.0966e+00,\n",
      "         -4.3168e-01, -4.4612e-01, -1.1751e+00, -3.0906e-01,  2.4935e-02,\n",
      "          3.3161e-01,  1.1003e-01, -7.5919e-01, -1.9423e+00,  1.3356e+00,\n",
      "         -1.0682e+00, -2.0578e+00,  3.2913e-01,  6.0108e-01, -2.2474e-01,\n",
      "         -1.3293e+00,  2.9759e-01, -1.1666e+00, -5.7313e-01,  1.1395e+00,\n",
      "          3.8684e-01,  2.3880e-01, -1.1046e+00, -1.0788e+00,  2.5909e-01,\n",
      "         -9.6424e-01,  1.8020e+00,  2.8304e-02,  9.7374e-03, -1.2926e+00,\n",
      "          3.5361e-01, -1.4617e+00, -7.6714e-01,  9.5580e-01, -1.2483e+00],\n",
      "        [ 4.9540e-01,  9.6159e-01, -5.8338e-01, -1.9077e+00,  5.4611e-01,\n",
      "          1.5884e+00, -4.8082e-01,  1.2994e+00, -1.8730e+00,  6.4405e-01,\n",
      "         -6.2223e-01, -2.4834e-01,  2.7592e-01, -8.2234e-03,  1.1326e+00,\n",
      "         -2.1073e+00, -1.2717e+00,  8.3685e-03, -1.1129e+00, -9.1655e-01,\n",
      "          7.0284e-01,  8.8143e-02,  5.5370e-02, -3.4603e-02, -3.0745e-01,\n",
      "         -1.9379e-01, -7.9013e-01,  1.5515e+00,  6.3391e-01,  2.1003e+00,\n",
      "          2.3212e+00,  2.2325e-01,  5.5888e-01,  6.2716e-01, -1.0904e+00,\n",
      "          3.7937e-01, -4.2402e-01,  5.9740e-01, -4.6718e-01,  5.7511e-01,\n",
      "          1.4283e+00, -1.4858e-02, -6.2264e-01, -1.3153e+00,  6.4906e-01,\n",
      "          7.9132e-02,  9.1120e-01,  7.2326e-01,  2.8481e-01, -1.0879e+00,\n",
      "          2.7578e-01, -1.7541e-02, -1.1472e+00,  1.0055e+00,  1.0845e+00,\n",
      "          3.6708e-02, -8.2754e-01,  3.1893e-01, -9.8151e-01, -1.8372e-01,\n",
      "          4.2445e-01, -2.4204e+00,  8.3138e-01,  5.4143e-01,  2.1067e-01,\n",
      "         -1.4867e+00,  3.9683e-01, -2.0762e+00, -4.8466e-01,  3.7386e-01,\n",
      "          1.7079e+00, -9.0245e-01,  5.0225e-01, -1.4571e+00, -1.4450e+00,\n",
      "         -2.4125e+00, -1.5065e+00,  7.3422e-01, -8.1963e-01, -9.8429e-01,\n",
      "         -5.1953e-01, -1.1984e-01,  1.7747e+00, -2.3486e+00,  3.9764e-01,\n",
      "          8.1243e-02, -2.0620e-01, -1.9324e+00, -8.3333e-01,  7.7125e-01,\n",
      "          2.8435e-01,  1.4758e+00, -2.3742e-01,  5.2668e-01,  1.9135e-01,\n",
      "          3.6316e-01, -5.5488e-01, -3.6580e-03,  1.4583e+00, -1.7904e-01]],\n",
      "       grad_fn=<EmbeddingBackward0>)\n"
     ]
    }
   ],
   "source": [
    "import torch\n",
    "import torch.nn as nn\n",
    "vocab_size = 1000\n",
    "\n",
    "embedding_dim = 100\n",
    "embedding = nn.Embedding(vocab_size,embedding_dim)\n",
    "\n",
    "# create same input indices \n",
    "input_indices = torch.LongTensor([1,5,3,2,6])\n",
    "\n",
    "# Allpy the embedding Layer \n",
    "embedded_output = embedding(input_indices)\n",
    "\n",
    "# The ouput will be a tensor of shape\n",
    "print(embedded_output.shape)\n",
    "print(embedded_output)"
   ]
  },
  {
   "cell_type": "code",
   "execution_count": 64,
   "id": "ed9728eb-184e-4eba-870e-f298f764f44b",
   "metadata": {},
   "outputs": [
    {
     "name": "stdout",
     "output_type": "stream",
     "text": [
      "tensor([[ 27,  30,  33],\n",
      "        [ 61,  68,  75],\n",
      "        [ 95, 106, 117]])\n"
     ]
    }
   ],
   "source": [
    "a= torch.tensor([[1,2],[3,4],[5,6]])\n",
    "b=torch.tensor([[7,8,9],[10,11,12]])\n",
    "print(a@b)"
   ]
  },
  {
   "cell_type": "code",
   "execution_count": null,
   "id": "94f15b9c-e612-42c5-b6ef-ac3da7c68746",
   "metadata": {},
   "outputs": [],
   "source": [
    "int_64 = torch.randint(1,(3,2))\n",
    "float_32 = torch.rand(2,3)\n",
    "result = torch.matmul(int_64,float_32)\n"
   ]
  },
  {
   "cell_type": "code",
   "execution_count": null,
   "id": "16ac2e1f-227b-4f2e-875f-fe68db6367c4",
   "metadata": {},
   "outputs": [],
   "source": []
  }
 ],
 "metadata": {
  "kernelspec": {
   "display_name": "Python 3 (ipykernel)",
   "language": "python",
   "name": "python3"
  },
  "language_info": {
   "codemirror_mode": {
    "name": "ipython",
    "version": 3
   },
   "file_extension": ".py",
   "mimetype": "text/x-python",
   "name": "python",
   "nbconvert_exporter": "python",
   "pygments_lexer": "ipython3",
   "version": "3.11.4"
  }
 },
 "nbformat": 4,
 "nbformat_minor": 5
}
